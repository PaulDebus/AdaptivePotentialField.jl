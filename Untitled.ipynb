{
 "cells": [
  {
   "cell_type": "code",
   "execution_count": 1,
   "id": "5ecd99a3-8d53-45bc-bc03-c9b05da1cc92",
   "metadata": {},
   "outputs": [
    {
     "name": "stderr",
     "output_type": "stream",
     "text": [
      "\u001b[32m\u001b[1m  Activating\u001b[22m\u001b[39m project at `~/repos/AdaptivePotentialField.jl`\n"
     ]
    },
    {
     "name": "stdout",
     "output_type": "stream",
     "text": [
      "\u001b[36m\u001b[1mProject\u001b[22m\u001b[39m AdaptivePotentialField v0.1.0\n",
      "\u001b[32m\u001b[1mStatus\u001b[22m\u001b[39m `~/repos/AdaptivePotentialField.jl/Project.toml`\n",
      " \u001b[90m [a1957575] \u001b[39mAdaptiveDistanceFields v0.1.0 `dev/AdaptiveDistanceFields`\n",
      " \u001b[90m [6e4b80f9] \u001b[39mBenchmarkTools v1.3.2\n",
      " \u001b[90m [5789e2e9] \u001b[39mFileIO v1.16.0\n",
      " \u001b[90m [5c1252a2] \u001b[39mGeometryBasics v0.4.6\n",
      " \u001b[90m [7073ff75] \u001b[39mIJulia v1.24.0\n",
      " \u001b[90m [7269a6da] \u001b[39mMeshIO v0.4.10\n",
      " \u001b[90m [eacbb407] \u001b[39mMeshes v0.28.1\n",
      " \u001b[90m [0756cd96] \u001b[39mQuaternionic v1.2.0\n",
      " \u001b[90m [90137ffa] \u001b[39mStaticArrays v1.5.19\n"
     ]
    }
   ],
   "source": [
    "using Pkg\n",
    "Pkg.activate(\".\")\n",
    "Pkg.status()"
   ]
  },
  {
   "cell_type": "code",
   "execution_count": 2,
   "id": "2c359d9c-0415-44c6-a03b-f3fa7861147b",
   "metadata": {},
   "outputs": [
    {
     "name": "stderr",
     "output_type": "stream",
     "text": [
      "\u001b[36m\u001b[1m[ \u001b[22m\u001b[39m\u001b[36m\u001b[1mInfo: \u001b[22m\u001b[39mPrecompiling AdaptiveDistanceFields [a1957575-6125-5dba-8f92-417d2d1f4a46]\n"
     ]
    }
   ],
   "source": [
    "using GeometryBasics: GeometryBasics\n",
    "using AdaptiveDistanceFields, FileIO, Meshes, StaticArrays, LinearAlgebra, Quaternionic\n",
    "using BenchmarkTools"
   ]
  },
  {
   "cell_type": "code",
   "execution_count": 3,
   "id": "30f67bbf-0640-4c42-a8d5-978cc3d84ee8",
   "metadata": {},
   "outputs": [],
   "source": [
    "function loadmesh(path)\n",
    "    # load a mesh as a Meshes.jl mesh, normal loading loads as GeometryBasics mesh\n",
    "\tmesh = FileIO.load(path)\n",
    "\tpoints = [Tuple(p) for p in Set(mesh.position)]\n",
    "\tindices = Dict(p => i for (i, p) in enumerate(points))\n",
    "\tconnectivities = map(mesh) do el\n",
    "\t\tMeshes.connect(Tuple(indices[Tuple(p)] for p in el))\n",
    "\tend\n",
    "\tMeshes.SimpleMesh(Point.(points), connectivities)\n",
    "end\n",
    "mesh = loadmesh(\"/home/paul/data/models/Scherkonde/pfeiler.ply\");"
   ]
  },
  {
   "cell_type": "code",
   "execution_count": 4,
   "id": "d6a8dc95-124e-48eb-be30-da047afdc41a",
   "metadata": {},
   "outputs": [
    {
     "data": {
      "text/plain": [
       "mysample (generic function with 1 method)"
      ]
     },
     "execution_count": 4,
     "metadata": {},
     "output_type": "execute_result"
    }
   ],
   "source": [
    "using Random\n",
    "function mysample(rng::AbstractRNG, Ω::DomainOrData,\n",
    "                method::HomogeneousSampling)\n",
    "  size    = method.size\n",
    "  weights = measure.(Ω)\n",
    "\n",
    "  # sample elements with weights proportial to measure\n",
    "  w = WeightedSampling(size, weights, replace=true)\n",
    "\n",
    "  # within each element sample a single point\n",
    "  h = HomogeneousSampling(1)\n",
    "    \n",
    "    tris = sample(rng, Ω, w)\n",
    "\n",
    "  (first(sample(rng, e, h)) for e in tris) , tris\n",
    "end"
   ]
  },
  {
   "cell_type": "code",
   "execution_count": 5,
   "id": "eadd654e-0ebf-481e-a71d-0f21844f5519",
   "metadata": {},
   "outputs": [],
   "source": [
    "sampler = HomogeneousSampling(1000)\n",
    "sample_points, tris = mysample(Random.GLOBAL_RNG, mesh, sampler)\n",
    "sample_points = collect(sample_points);\n",
    "normals = normal.(tris);"
   ]
  },
  {
   "cell_type": "code",
   "execution_count": 9,
   "id": "c35dcb0f-8776-4866-aed9-62b570653faa",
   "metadata": {},
   "outputs": [
    {
     "data": {
      "text/plain": [
       "potential (generic function with 1 method)"
      ]
     },
     "execution_count": 9,
     "metadata": {},
     "output_type": "execute_result"
    }
   ],
   "source": [
    "counter = 0\n",
    "function potential(x)\n",
    "    #global counter += 1\n",
    "    dist = 14.\n",
    "    tol = 0.1\n",
    "    pos = Point(x[1:3])\n",
    "    score = 0.\n",
    "    for p in sample_points\n",
    "        d = norm(p - pos)\n",
    "        #if abs(d - dist) / dist < tol\n",
    "        if d < dist\n",
    "            global counter += 1\n",
    "            score += 1\n",
    "        end\n",
    "    end\n",
    "    score\n",
    "end"
   ]
  },
  {
   "cell_type": "code",
   "execution_count": 6,
   "id": "067f43bb-aa0e-4af2-8232-4428a2ea144b",
   "metadata": {},
   "outputs": [
    {
     "data": {
      "text/plain": [
       "5-element SVector{5, Float32} with indices SOneTo(5):\n",
       " 276.70996\n",
       "   1.2937926\n",
       " -30.914972\n",
       "   0.0\n",
       "   0.0"
      ]
     },
     "execution_count": 6,
     "metadata": {},
     "output_type": "execute_result"
    }
   ],
   "source": [
    "buffer = 10.\n",
    "bounds = boundingbox(mesh)\n",
    "buffer_min, buffer_max = coordinates(bounds.min) .- buffer, coordinates(bounds.max) .+ buffer\n",
    "polar_min, polar_max = SVector(0, -pi/2), SVector(2pi, pi/2)\n",
    "bounds_min = SVector(buffer_min...,  polar_min...)\n",
    "bounds_max = SVector(buffer_max...,  polar_max...) \n",
    "widths = bounds_max - bounds_min\n",
    "v = SVector(coordinates(sample_points[1])..., 0, 0)"
   ]
  },
  {
   "cell_type": "code",
   "execution_count": 12,
   "id": "57fbec6c-a300-4cd7-835f-955fd339c5e5",
   "metadata": {},
   "outputs": [
    {
     "ename": "LoadError",
     "evalue": "MethodError: no method matching +(::SVector{5, Float64}, ::Int64)\nFor element-wise addition, use broadcasting with dot syntax: array .+ scalar\n\u001b[0mClosest candidates are:\n\u001b[0m  +(::Any, ::Any, \u001b[91m::Any\u001b[39m, \u001b[91m::Any...\u001b[39m) at operators.jl:591\n\u001b[0m  +(\u001b[91m::T\u001b[39m, ::T) where T<:Union{Int128, Int16, Int32, Int64, Int8, UInt128, UInt16, UInt32, UInt64, UInt8} at int.jl:87\n\u001b[0m  +(\u001b[91m::AbstractAlgebra.MatrixElem{T}\u001b[39m, ::Union{AbstractFloat, Integer, Rational}) where T<:Union{AbstractAlgebra.NCRingElem, AbstractAlgebra.RingElement} at ~/.julia/packages/AbstractAlgebra/ILy7Z/src/Matrix.jl:791\n\u001b[0m  ...",
     "output_type": "error",
     "traceback": [
      "MethodError: no method matching +(::SVector{5, Float64}, ::Int64)\nFor element-wise addition, use broadcasting with dot syntax: array .+ scalar\n\u001b[0mClosest candidates are:\n\u001b[0m  +(::Any, ::Any, \u001b[91m::Any\u001b[39m, \u001b[91m::Any...\u001b[39m) at operators.jl:591\n\u001b[0m  +(\u001b[91m::T\u001b[39m, ::T) where T<:Union{Int128, Int16, Int32, Int64, Int8, UInt128, UInt16, UInt32, UInt64, UInt8} at int.jl:87\n\u001b[0m  +(\u001b[91m::AbstractAlgebra.MatrixElem{T}\u001b[39m, ::Union{AbstractFloat, Integer, Rational}) where T<:Union{AbstractAlgebra.NCRingElem, AbstractAlgebra.RingElement} at ~/.julia/packages/AbstractAlgebra/ILy7Z/src/Matrix.jl:791\n\u001b[0m  ...",
      "",
      "Stacktrace:",
      " [1] evaluate(interp::Interpolations.Extrapolation{Float64, 5, Interpolations.BSplineInterpolation{Float64, 5, SArray{NTuple{5, 2}, Float64, 5, 32}, Interpolations.BSpline{Interpolations.Linear{Interpolations.Throw{Interpolations.OnGrid}}}, NTuple{5, Base.Slice{UnitRange{Int64}}}}, Interpolations.BSpline{Interpolations.Linear{Interpolations.Throw{Interpolations.OnGrid}}}, Interpolations.Line{Nothing}}, boundary::RegionTrees.HyperRectangle{5, Float64}, point::SVector{5, Float64})",
      "   @ AdaptiveDistanceFields ~/repos/AdaptivePotentialField.jl/dev/AdaptiveDistanceFields/src/interpolation.jl:15",
      " [2] evaluate(cell::RegionTrees.Cell{Interpolations.Extrapolation{Float64, 5, Interpolations.BSplineInterpolation{Float64, 5, SArray{NTuple{5, 2}, Float64, 5, 32}, Interpolations.BSpline{Interpolations.Linear{Interpolations.Throw{Interpolations.OnGrid}}}, NTuple{5, Base.Slice{UnitRange{Int64}}}}, Interpolations.BSpline{Interpolations.Linear{Interpolations.Throw{Interpolations.OnGrid}}}, Interpolations.Line{Nothing}}, 5, Float64, 32}, point::SVector{5, Float64})",
      "   @ AdaptiveDistanceFields ~/repos/AdaptivePotentialField.jl/dev/AdaptiveDistanceFields/src/interpolation.jl:11",
      " [3] needs_refinement",
      "   @ ~/repos/AdaptivePotentialField.jl/dev/AdaptiveDistanceFields/src/adaptivesampling.jl:11 [inlined]",
      " [4] adaptivesampling!(root::RegionTrees.Cell{Interpolations.Extrapolation{Float64, 5, Interpolations.BSplineInterpolation{Float64, 5, SArray{NTuple{5, 2}, Float64, 5, 32}, Interpolations.BSpline{Interpolations.Linear{Interpolations.Throw{Interpolations.OnGrid}}}, NTuple{5, Base.Slice{UnitRange{Int64}}}}, Interpolations.BSpline{Interpolations.Linear{Interpolations.Throw{Interpolations.OnGrid}}}, Interpolations.Line{Nothing}}, 5, Float64, 32}, refinery::AdaptiveDistanceFields.SignedDistanceRefinery{typeof(potential)})",
      "   @ RegionTrees ~/.julia/packages/RegionTrees/rosFd/src/adaptivesampling.jl:12",
      " [5] AdaptiveDistanceField(signed_distance::Function, origin::SVector{5, Float64}, widths::SVector{5, Float64}, rtol::Float64, atol::Float64)",
      "   @ AdaptiveDistanceFields ~/repos/AdaptivePotentialField.jl/dev/AdaptiveDistanceFields/src/AdaptiveDistanceFields.jl:34",
      " [6] top-level scope",
      "   @ ./timing.jl:262 [inlined]",
      " [7] top-level scope",
      "   @ ./In[12]:0"
     ]
    }
   ],
   "source": [
    "@time field = AdaptiveDistanceField(potential, bounds_min, widths, 0.1, 0.2)"
   ]
  },
  {
   "cell_type": "code",
   "execution_count": 7,
   "id": "ccd60d31-8ab7-46fb-a799-e53ec220fa50",
   "metadata": {},
   "outputs": [
    {
     "data": {
      "text/plain": [
       "potential2 (generic function with 1 method)"
      ]
     },
     "execution_count": 7,
     "metadata": {},
     "output_type": "execute_result"
    }
   ],
   "source": [
    "function potential2(x)\n",
    "    dist = 4.\n",
    "    tol = 0.1\n",
    "    pos = Point(x[1:3])\n",
    "    target = zeros(Int, length(sample_points))\n",
    "    Threads.@threads for i in 1:length(sample_points)\n",
    "        @inbounds p = sample_points[i]\n",
    "        d = norm(p - pos)\n",
    "        if abs(d - dist) / dist < tol\n",
    "            @inbounds target[i] = 1\n",
    "        end\n",
    "    end\n",
    "    sum(target)\n",
    "end"
   ]
  },
  {
   "cell_type": "code",
   "execution_count": 10,
   "id": "e5574a3a-3e67-4fc9-bc33-6dc1d7efe71a",
   "metadata": {},
   "outputs": [
    {
     "name": "stdout",
     "output_type": "stream",
     "text": [
      "100.452698 seconds (95.12 M allocations: 88.017 GiB, 6.90% gc time, 2.37% compilation time)\n"
     ]
    },
    {
     "data": {
      "text/plain": [
       "(::AdaptiveDistanceField{RegionTrees.Cell{Interpolations.Extrapolation{Float64, 5, Interpolations.BSplineInterpolation{Float64, 5, SArray{NTuple{5, 2}, Int64, 5, 32}, Interpolations.BSpline{Interpolations.Linear{Interpolations.Throw{Interpolations.OnGrid}}}, NTuple{5, Base.Slice{UnitRange{Int64}}}}, Interpolations.BSpline{Interpolations.Linear{Interpolations.Throw{Interpolations.OnGrid}}}, Interpolations.Line{Nothing}}, 5, Float64, 32}}) (generic function with 1 method)"
      ]
     },
     "execution_count": 10,
     "metadata": {},
     "output_type": "execute_result"
    }
   ],
   "source": [
    "@time field = AdaptiveDistanceField(potential3, bounds_min, widths, 0.1, 0.2)"
   ]
  },
  {
   "cell_type": "code",
   "execution_count": 9,
   "id": "83a62f44-8342-416b-9e2c-b825540de8af",
   "metadata": {},
   "outputs": [
    {
     "data": {
      "text/plain": [
       "BenchmarkTools.Trial: 10000 samples with 1 evaluation.\n",
       " Range \u001b[90m(\u001b[39m\u001b[36m\u001b[1mmin\u001b[22m\u001b[39m … \u001b[35mmax\u001b[39m\u001b[90m):  \u001b[39m\u001b[36m\u001b[1m17.530 μs\u001b[22m\u001b[39m … \u001b[35m143.409 μs\u001b[39m  \u001b[90m┊\u001b[39m GC \u001b[90m(\u001b[39mmin … max\u001b[90m): \u001b[39m0.00% … 0.00%\n",
       " Time  \u001b[90m(\u001b[39m\u001b[34m\u001b[1mmedian\u001b[22m\u001b[39m\u001b[90m):     \u001b[39m\u001b[34m\u001b[1m18.408 μs               \u001b[22m\u001b[39m\u001b[90m┊\u001b[39m GC \u001b[90m(\u001b[39mmedian\u001b[90m):    \u001b[39m0.00%\n",
       " Time  \u001b[90m(\u001b[39m\u001b[32m\u001b[1mmean\u001b[22m\u001b[39m ± \u001b[32mσ\u001b[39m\u001b[90m):   \u001b[39m\u001b[32m\u001b[1m19.129 μs\u001b[22m\u001b[39m ± \u001b[32m  2.496 μs\u001b[39m  \u001b[90m┊\u001b[39m GC \u001b[90m(\u001b[39mmean ± σ\u001b[90m):  \u001b[39m0.00% ± 0.00%\n",
       "\n",
       "  \u001b[39m█\u001b[39m▆\u001b[39m▃\u001b[39m \u001b[39m▁\u001b[34m▆\u001b[39m\u001b[39m▄\u001b[39m▁\u001b[39m \u001b[39m \u001b[32m \u001b[39m\u001b[39m \u001b[39m \u001b[39m \u001b[39m \u001b[39m▃\u001b[39m▆\u001b[39m▅\u001b[39m▁\u001b[39m \u001b[39m \u001b[39m▅\u001b[39m▅\u001b[39m▂\u001b[39m \u001b[39m \u001b[39m \u001b[39m▂\u001b[39m▁\u001b[39m \u001b[39m \u001b[39m \u001b[39m \u001b[39m \u001b[39m \u001b[39m \u001b[39m \u001b[39m \u001b[39m \u001b[39m \u001b[39m \u001b[39m \u001b[39m \u001b[39m \u001b[39m \u001b[39m \u001b[39m \u001b[39m \u001b[39m \u001b[39m \u001b[39m \u001b[39m \u001b[39m \u001b[39m \u001b[39m \u001b[39m \u001b[39m \u001b[39m \u001b[39m \u001b[39m \u001b[39m \u001b[39m▂\n",
       "  \u001b[39m█\u001b[39m█\u001b[39m█\u001b[39m█\u001b[39m█\u001b[34m█\u001b[39m\u001b[39m█\u001b[39m█\u001b[39m▆\u001b[39m▁\u001b[32m▁\u001b[39m\u001b[39m▃\u001b[39m▃\u001b[39m▁\u001b[39m▁\u001b[39m█\u001b[39m█\u001b[39m█\u001b[39m█\u001b[39m█\u001b[39m█\u001b[39m█\u001b[39m█\u001b[39m█\u001b[39m▇\u001b[39m▆\u001b[39m█\u001b[39m█\u001b[39m█\u001b[39m▇\u001b[39m▁\u001b[39m▅\u001b[39m▆\u001b[39m▅\u001b[39m▅\u001b[39m▅\u001b[39m▆\u001b[39m▄\u001b[39m▅\u001b[39m▅\u001b[39m▅\u001b[39m▁\u001b[39m▄\u001b[39m▃\u001b[39m▄\u001b[39m▁\u001b[39m▁\u001b[39m▅\u001b[39m▅\u001b[39m▆\u001b[39m▆\u001b[39m▆\u001b[39m▆\u001b[39m▆\u001b[39m▅\u001b[39m▆\u001b[39m▆\u001b[39m▁\u001b[39m▃\u001b[39m▅\u001b[39m \u001b[39m█\n",
       "  17.5 μs\u001b[90m       \u001b[39m\u001b[90mHistogram: \u001b[39m\u001b[90m\u001b[1mlog(\u001b[22m\u001b[39m\u001b[90mfrequency\u001b[39m\u001b[90m\u001b[1m)\u001b[22m\u001b[39m\u001b[90m by time\u001b[39m      27.5 μs \u001b[0m\u001b[1m<\u001b[22m\n",
       "\n",
       " Memory estimate\u001b[90m: \u001b[39m\u001b[33m8.19 KiB\u001b[39m, allocs estimate\u001b[90m: \u001b[39m\u001b[33m7\u001b[39m."
      ]
     },
     "execution_count": 9,
     "metadata": {},
     "output_type": "execute_result"
    }
   ],
   "source": [
    "\n",
    "function potential3(x)\n",
    "    dist = 4.\n",
    "    tol = 0.1\n",
    "    pos = Point(x[1:3])\n",
    "    dir = \n",
    "    function f(xx) \n",
    "        d = norm(xx - pos)\n",
    "        if abs(d - dist) / dist < tol\n",
    "            return 1\n",
    "        end\n",
    "        0\n",
    "    end\n",
    "    #target = zeros(length(sample_points))\n",
    "    sum(f.(sample_points))\n",
    "end\n",
    "function test(v)\n",
    "    Threads.@threads for i in 1:100\n",
    "        potential3(v)\n",
    "    end\n",
    "end\n",
    "@benchmark potential3($v)"
   ]
  },
  {
   "cell_type": "code",
   "execution_count": 11,
   "id": "ccc21e0b-f486-4225-957c-64d2f20c7d7a",
   "metadata": {},
   "outputs": [
    {
     "data": {
      "text/plain": [
       "49.30476976224777"
      ]
     },
     "execution_count": 11,
     "metadata": {},
     "output_type": "execute_result"
    }
   ],
   "source": [
    "field(v)"
   ]
  }
 ],
 "metadata": {
  "kernelspec": {
   "display_name": "Julia Potential 1.8.2",
   "language": "julia",
   "name": "julia-potential-1.8"
  },
  "language_info": {
   "file_extension": ".jl",
   "mimetype": "application/julia",
   "name": "julia",
   "version": "1.8.2"
  }
 },
 "nbformat": 4,
 "nbformat_minor": 5
}
